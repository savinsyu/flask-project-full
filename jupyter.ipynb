{
 "cells": [
  {
   "cell_type": "code",
   "execution_count": 2,
   "id": "7a8073a9-f50f-4aeb-9fc9-2b9f2fd7f9a9",
   "metadata": {},
   "outputs": [
    {
     "data": {
      "text/plain": [
       "3"
      ]
     },
     "execution_count": 2,
     "metadata": {},
     "output_type": "execute_result"
    }
   ],
   "source": [
    "# работа с переменными, вариант без print\n",
    "x = 1\n",
    "y = 2\n",
    "t = x + y\n",
    "t"
   ]
  },
  {
   "cell_type": "code",
   "execution_count": 3,
   "id": "2280e68f-d767-4c58-882c-678a4b844176",
   "metadata": {},
   "outputs": [
    {
     "name": "stdout",
     "output_type": "stream",
     "text": [
      "1  +  2  =  3\n"
     ]
    }
   ],
   "source": [
    "# работа с переменными, вариант с print\n",
    "x = 1\n",
    "y = 2\n",
    "t = x + y\n",
    "print(x, \" + \", y, \" = \", t)"
   ]
  },
  {
   "cell_type": "code",
   "execution_count": 1,
   "id": "415a8bd5-62ec-4974-ae7b-a529aade7f01",
   "metadata": {},
   "outputs": [
    {
     "data": {
      "text/plain": [
       "[(1,\n",
       "  'Как сделать скрипт на bash',\n",
       "  'https://selectel.ru/blog/tutorials/linux-bash-scripting-guide/'),\n",
       " (2,\n",
       "  'Как создать и запустить bat-файлы\\n',\n",
       "  'https://www.nic.ru/help/kak-sozdat6-i-zapustit6-bat-fajly_11640.html'),\n",
       " (3,\n",
       "  'Работа с 7zip из командной строки',\n",
       "  'https://www.dmosk.ru/miniinstruktions.php?mini=7zip-cmd '),\n",
       " (4,\n",
       "  'Список команд Windows CMD  с описанием и примерами',\n",
       "  'https://ab57.ru/cmdlist.html'),\n",
       " (5,\n",
       "  'Интересный материал про bash',\n",
       "  'https://linuxsimply.com/bash-scripting-tutorial/basics/')]"
      ]
     },
     "execution_count": 1,
     "metadata": {},
     "output_type": "execute_result"
    }
   ],
   "source": [
    "# Подключаем библиотеку sqlite3\n",
    "import sqlite3\n",
    "# Подключаемся в базе данных\n",
    "con = sqlite3.connect(\"P:/s.savin/flask_project/database.db\")\n",
    "cur = con.cursor()\n",
    "res = cur.execute(\"SELECT * FROM links\")\n",
    "res.fetchall()"
   ]
  },
  {
   "cell_type": "code",
   "execution_count": 2,
   "id": "b499f1fe-fdc5-4f35-8af5-38b7706d33c6",
   "metadata": {},
   "outputs": [
    {
     "data": {
      "text/plain": [
       "[(1,\n",
       "  'Как сделать скрипт на bash',\n",
       "  'https://selectel.ru/blog/tutorials/linux-bash-scripting-guide/')]"
      ]
     },
     "execution_count": 2,
     "metadata": {},
     "output_type": "execute_result"
    }
   ],
   "source": [
    "cur = con.cursor()\n",
    "res = cur.execute(\"SELECT * FROM links LIMIT 1\")\n",
    "res.fetchall()"
   ]
  },
  {
   "cell_type": "code",
   "execution_count": 40,
   "id": "503558f4-0f0e-4ba1-b1bf-a0badd41eb37",
   "metadata": {},
   "outputs": [],
   "source": [
    "# Тестовый запрос вставки значений в таблицу links\n",
    "data = (\n",
    "    {\"id\": None,\"name\": \"test\", \"link\": \"test\"},\n",
    "    {\"id\": None,\"name\": \"test\", \"link\": \"test\"},\n",
    "    {\"id\": None,\"name\": \"test\", \"link\": \"test\"},\n",
    ")\n",
    "cur.executemany(\"INSERT INTO links VALUES(:id,:name, :link)\", data)\n",
    "con.commit() "
   ]
  },
  {
   "cell_type": "code",
   "execution_count": 42,
   "id": "1f877847-6a9d-4eca-b7d2-3700fd7c0c0e",
   "metadata": {},
   "outputs": [],
   "source": [
    "cur = con.cursor()\n",
    "res = cur.execute(\"DELETE FROM links WHERE id IN (12,13,14)\")\n",
    "res.fetchall()\n",
    "con.commit() "
   ]
  }
 ],
 "metadata": {
  "kernelspec": {
   "display_name": "Python 3 (ipykernel)",
   "language": "python",
   "name": "python3"
  },
  "language_info": {
   "codemirror_mode": {
    "name": "ipython",
    "version": 3
   },
   "file_extension": ".py",
   "mimetype": "text/x-python",
   "name": "python",
   "nbconvert_exporter": "python",
   "pygments_lexer": "ipython3",
   "version": "3.11.7"
  }
 },
 "nbformat": 4,
 "nbformat_minor": 5
}
